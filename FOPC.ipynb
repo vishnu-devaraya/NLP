{
  "nbformat": 4,
  "nbformat_minor": 0,
  "metadata": {
    "colab": {
      "provenance": [],
      "authorship_tag": "ABX9TyPY5AeM/0YUK4Lhtygtp4BY",
      "include_colab_link": true
    },
    "kernelspec": {
      "name": "python3",
      "display_name": "Python 3"
    },
    "language_info": {
      "name": "python"
    }
  },
  "cells": [
    {
      "cell_type": "markdown",
      "metadata": {
        "id": "view-in-github",
        "colab_type": "text"
      },
      "source": [
        "<a href=\"https://colab.research.google.com/github/P-Sai-Vinitha/_NLP_/blob/main/(40)FOPC.ipynb\" target=\"_parent\"><img src=\"https://colab.research.google.com/assets/colab-badge.svg\" alt=\"Open In Colab\"/></a>"
      ]
    },
    {
      "cell_type": "code",
      "execution_count": null,
      "metadata": {
        "colab": {
          "base_uri": "https://localhost:8080/"
        },
        "id": "HdhWCetdh-EX",
        "outputId": "895880bc-7018-47d8-e27d-27e59239cc6e"
      },
      "outputs": [
        {
          "output_type": "stream",
          "name": "stdout",
          "text": [
            "p and q: Invalid expression\n",
            "p or r: Invalid expression\n",
            "not p: Invalid expression\n",
            "q and (r or p): Invalid expression\n",
            "((p and q) or r: Invalid expression\n",
            "p and (q or r)): Invalid expression\n"
          ]
        }
      ],
      "source": [
        "class FOPCParser:\n",
        "    def __init__(self, variables):\n",
        "        self.variables = variables\n",
        "\n",
        "    def parse_expression(self, expression):\n",
        "        tokens = expression.split()\n",
        "        stack = []\n",
        "\n",
        "        for token in tokens:\n",
        "            if token in self.variables:\n",
        "                stack.append(self.variables[token])\n",
        "            elif token == 'and':\n",
        "                if len(stack) >= 2:\n",
        "                    operand2 = stack.pop()\n",
        "                    operand1 = stack.pop()\n",
        "                    stack.append(operand1 and operand2)\n",
        "                else:\n",
        "                    return None  # Invalid expression\n",
        "            elif token == 'or':\n",
        "                if len(stack) >= 2:\n",
        "                    operand2 = stack.pop()\n",
        "                    operand1 = stack.pop()\n",
        "                    stack.append(operand1 or operand2)\n",
        "                else:\n",
        "                    return None  # Invalid expression\n",
        "            elif token == 'not':\n",
        "                if stack:\n",
        "                    operand = stack.pop()\n",
        "                    stack.append(not operand)\n",
        "                else:\n",
        "                    return None  # Invalid expression\n",
        "            elif token.startswith('('):\n",
        "                stack.append(token[1:])\n",
        "            elif token.endswith(')'):\n",
        "                subexpression = [stack.pop()]\n",
        "                while stack and not subexpression[-1].startswith('('):\n",
        "                    subexpression.append(stack.pop())\n",
        "                if not stack:\n",
        "                    return None  # Unmatched parentheses\n",
        "                subexpression.reverse()\n",
        "                subexpression = ' '.join(subexpression)\n",
        "                stack.append(self.parse_expression(subexpression))\n",
        "            else:\n",
        "                stack.append(token.lower() == 'true')\n",
        "\n",
        "        return stack[0] if stack else None\n",
        "\n",
        "# Given variables\n",
        "variables = {'p': True, 'q': True, 'r': False}\n",
        "\n",
        "# Logical expressions\n",
        "expressions = [\"p and q\", \"p or r\", \"not p\", \"q and (r or p)\", \"((p and q) or r\", \"p and (q or r))\"]\n",
        "\n",
        "# Parse and evaluate each expression\n",
        "parser = FOPCParser(variables)\n",
        "for expression in expressions:\n",
        "    result = parser.parse_expression(expression)\n",
        "    if result is not None:\n",
        "        print(f\"{expression}: {result}\")\n",
        "    else:\n",
        "        print(f\"{expression}: Invalid expression\")\n"
      ]
    }
  ]
}
